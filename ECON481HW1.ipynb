{
 "cells": [
  {
   "cell_type": "markdown",
   "id": "6b315109-58a3-4583-b17f-b759cd75adde",
   "metadata": {},
   "source": [
    "## Exercise 0"
   ]
  },
  {
   "cell_type": "code",
   "execution_count": 23,
   "id": "63471838-698c-4f2e-9698-a29f4fe60c49",
   "metadata": {},
   "outputs": [
    {
     "data": {
      "text/plain": [
       "'https://github.com/jphopk/ECON481-Homework/blob/main/ECON481-HW1-JustinHopkins.py'"
      ]
     },
     "execution_count": 23,
     "metadata": {},
     "output_type": "execute_result"
    }
   ],
   "source": [
    "def github() -> str:\n",
    "    return \"https://github.com/jphopk/ECON481-Homework/blob/main/ECON481-HW1-JustinHopkins.py\"\n",
    "\n",
    "github()"
   ]
  },
  {
   "cell_type": "markdown",
   "id": "ee5f3b13-52b7-4855-a26a-3a081be059ea",
   "metadata": {},
   "source": [
    "## Exercise 2"
   ]
  },
  {
   "cell_type": "code",
   "execution_count": 13,
   "id": "8b6493db-7a28-48b2-b7be-709fbc5ef833",
   "metadata": {},
   "outputs": [
    {
     "data": {
      "text/plain": [
       "{'evens': 2, 'odds': 4}"
      ]
     },
     "execution_count": 13,
     "metadata": {},
     "output_type": "execute_result"
    }
   ],
   "source": [
    "def evens_and_odds(n: int) -> dict:\n",
    "    evensSum = 0\n",
    "    oddsSum = 0\n",
    "    for i in range(0, n, 2):\n",
    "        evensSum += i\n",
    "    for i in range(1, n, 2):\n",
    "        oddsSum += i\n",
    "    return {'evens': evensSum, 'odds': oddsSum}\n",
    "\n",
    "evens_and_odds(4)"
   ]
  },
  {
   "cell_type": "markdown",
   "id": "b1a34502-2e3e-4363-b1cc-cb4c124d82c0",
   "metadata": {},
   "source": [
    "## Exercise 3"
   ]
  },
  {
   "cell_type": "code",
   "execution_count": 22,
   "id": "ca49df56-5838-47de-bcab-ef6de7959ccf",
   "metadata": {},
   "outputs": [
    {
     "data": {
      "text/plain": [
       "'There are 391539 days between the two dates'"
      ]
     },
     "execution_count": 22,
     "metadata": {},
     "output_type": "execute_result"
    }
   ],
   "source": [
    "from datetime import datetime, date, time, timedelta\n",
    "from typing import Union\n",
    "\n",
    "def time_diff(date_1: str, date_2: str, out: str) -> Union[str,float]:\n",
    "    dt1 = datetime.strptime(date_1, \"%Y-%m-%d\")\n",
    "    dt2 = datetime.strptime(date_2, \"%Y-%m-%d\")\n",
    "    delta = dt2-dt1\n",
    "    daysBtwn = abs(delta.days)\n",
    "    if (out == \"string\"):\n",
    "        return \"There are \" + str(daysBtwn) + \" days between the two dates\"\n",
    "    else:\n",
    "        return daysBtwn\n",
    "\n",
    "time_diff('3092-01-01', '2020-01-02', 'string')"
   ]
  },
  {
   "cell_type": "markdown",
   "id": "54a2d97d-c05c-47ba-9e07-3d288998d063",
   "metadata": {},
   "source": [
    "## Exercise 4"
   ]
  },
  {
   "cell_type": "code",
   "execution_count": 27,
   "id": "3c67abcd-ba83-42ea-a789-fb240bec0a3a",
   "metadata": {},
   "outputs": [
    {
     "data": {
      "text/plain": [
       "['cheddar bob', 'is', 'name', 'my', 'hello']"
      ]
     },
     "execution_count": 27,
     "metadata": {},
     "output_type": "execute_result"
    }
   ],
   "source": [
    "def reverse(in_list: list) -> list:\n",
    "    newList = []\n",
    "    for i in range(-1, -len(in_list) - 1, -1):\n",
    "        newList.append(in_list[i])\n",
    "    return newList\n",
    "reverse(['hello', 'my', 'name', 'is', 'cheddar bob'])"
   ]
  },
  {
   "cell_type": "markdown",
   "id": "b1849190-b690-4da4-ae04-358a3a4dc3ff",
   "metadata": {},
   "source": [
    "## Exercise 5"
   ]
  },
  {
   "cell_type": "code",
   "execution_count": 49,
   "id": "4aceca89-78ac-45b9-8191-d5a4c2691467",
   "metadata": {},
   "outputs": [
    {
     "data": {
      "text/plain": [
       "0.5"
      ]
     },
     "execution_count": 49,
     "metadata": {},
     "output_type": "execute_result"
    }
   ],
   "source": [
    "def prob_k_heads(n: int, k: int) -> float:\n",
    "    nminuskfac = 1\n",
    "    for i in range(1,n-k+1):\n",
    "        nminuskfac *= i\n",
    "    nchoosek = 1\n",
    "    for i in range(k+1, n+1):\n",
    "        nchoosek *= i\n",
    "    nchoosek /= nminuskfac\n",
    "    \n",
    "    return nchoosek*(0.5**n)\n",
    "prob_k_heads(1,1)"
   ]
  }
 ],
 "metadata": {
  "kernelspec": {
   "display_name": "Python 3 (ipykernel)",
   "language": "python",
   "name": "python3"
  },
  "language_info": {
   "codemirror_mode": {
    "name": "ipython",
    "version": 3
   },
   "file_extension": ".py",
   "mimetype": "text/x-python",
   "name": "python",
   "nbconvert_exporter": "python",
   "pygments_lexer": "ipython3",
   "version": "3.10.13"
  }
 },
 "nbformat": 4,
 "nbformat_minor": 5
}
