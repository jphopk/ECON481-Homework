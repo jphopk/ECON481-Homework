{
 "cells": [
  {
   "cell_type": "markdown",
   "id": "08613ab4-4e78-4a1b-8c65-1875667cd32d",
   "metadata": {},
   "source": [
    "## Exercise 0"
   ]
  },
  {
   "cell_type": "code",
   "execution_count": null,
   "id": "160efed9-3d95-4785-9071-cf33cfd81086",
   "metadata": {},
   "outputs": [],
   "source": [
    "def github() -> str:\n",
    "    return \"https://github.com/<user>/<repo>/blob/main/<filename.py>\""
   ]
  },
  {
   "cell_type": "markdown",
   "id": "c473433b-116b-4461-b89f-b82dc8866164",
   "metadata": {},
   "source": [
    "## Exercise 1"
   ]
  },
  {
   "cell_type": "code",
   "execution_count": null,
   "id": "3c693fcc-cec3-45b6-b3e9-efdba918f274",
   "metadata": {},
   "outputs": [],
   "source": []
  },
  {
   "cell_type": "markdown",
   "id": "ed5c0594-0bff-4d3d-9f90-4d88415daa53",
   "metadata": {},
   "source": [
    "## Exercise 2"
   ]
  },
  {
   "cell_type": "code",
   "execution_count": null,
   "id": "d9d49ce2-84f8-42f0-8e0a-2ff4c189c439",
   "metadata": {},
   "outputs": [],
   "source": []
  },
  {
   "cell_type": "markdown",
   "id": "65e251ef-8b18-40f3-9a5a-6cc0de940168",
   "metadata": {},
   "source": [
    "## Exercise 3"
   ]
  },
  {
   "cell_type": "code",
   "execution_count": null,
   "id": "f401bb13-1b64-47d4-a6ef-ec402c3c8172",
   "metadata": {},
   "outputs": [],
   "source": []
  }
 ],
 "metadata": {
  "kernelspec": {
   "display_name": "Python 3 (ipykernel)",
   "language": "python",
   "name": "python3"
  },
  "language_info": {
   "codemirror_mode": {
    "name": "ipython",
    "version": 3
   },
   "file_extension": ".py",
   "mimetype": "text/x-python",
   "name": "python",
   "nbconvert_exporter": "python",
   "pygments_lexer": "ipython3",
   "version": "3.10.13"
  }
 },
 "nbformat": 4,
 "nbformat_minor": 5
}
