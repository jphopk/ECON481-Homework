{
 "cells": [
  {
   "cell_type": "markdown",
   "id": "08613ab4-4e78-4a1b-8c65-1875667cd32d",
   "metadata": {},
   "source": [
    "## Exercise 0"
   ]
  },
  {
   "cell_type": "code",
   "execution_count": 26,
   "id": "160efed9-3d95-4785-9071-cf33cfd81086",
   "metadata": {},
   "outputs": [],
   "source": [
    "def github() -> str:\n",
    "    return \"https://github.com/jphopk/ECON481-Homework/blob/main/ECON481-HW2-JustinHopkins.py\""
   ]
  },
  {
   "cell_type": "markdown",
   "id": "c473433b-116b-4461-b89f-b82dc8866164",
   "metadata": {},
   "source": [
    "## Exercise 1"
   ]
  },
  {
   "cell_type": "code",
   "execution_count": 27,
   "id": "3c693fcc-cec3-45b6-b3e9-efdba918f274",
   "metadata": {},
   "outputs": [],
   "source": [
    "import numpy as np\n",
    "\n",
    "def simulate_data(seed: int = 481) -> tuple:\n",
    "    rng = np.random.default_rng(seed=seed)\n",
    "    x1 = rng.normal(0, 2**(0.5), 1000)\n",
    "    x2 = rng.normal(0, 2**(0.5), 1000)\n",
    "    x3 = rng.normal(0, 2**(0.5), 1000)\n",
    "    X = np.c_[x1, x2, x3]\n",
    "    e1 = rng.normal(0, 1, 1000)\n",
    "    y = 5 + 3*x1 + 2*x2 + 6*x3 + e1\n",
    "    return (y, X)\n",
    "a, b = simulate_data()"
   ]
  },
  {
   "cell_type": "markdown",
   "id": "ed5c0594-0bff-4d3d-9f90-4d88415daa53",
   "metadata": {},
   "source": [
    "## Exercise 2"
   ]
  },
  {
   "cell_type": "code",
   "execution_count": 28,
   "id": "d9d49ce2-84f8-42f0-8e0a-2ff4c189c439",
   "metadata": {},
   "outputs": [
    {
     "data": {
      "text/plain": [
       "array([4.95184751, 3.0253809 , 2.02122296, 5.96764435])"
      ]
     },
     "execution_count": 28,
     "metadata": {},
     "output_type": "execute_result"
    }
   ],
   "source": [
    "import scipy as sp\n",
    "\n",
    "def estimate_mle(y: np.array, X: np.array) -> np.array:\n",
    "    def neg_ll(B: np.array, y: np.array, X: np.array) -> float:\n",
    "        newX = np.c_[np.ones(1000), X]\n",
    "        #prob = np.log((1/np.sqrt(2*np.pi)))+np.log(np.exp(-0.5*(y-B@newX.T)**2)),original function before simplifying and taking out constants\n",
    "        prob = (-0.5*(y-B@newX.T)**2)\n",
    "        return -np.sum(prob)\n",
    "    \n",
    "    result = sp.optimize.minimize(\n",
    "                fun = neg_ll,\n",
    "                x0 = [0,0,0,0],\n",
    "                args = (y, X)\n",
    "            )\n",
    "    return result.x\n",
    "estimate_mle(a, b)"
   ]
  },
  {
   "cell_type": "markdown",
   "id": "65e251ef-8b18-40f3-9a5a-6cc0de940168",
   "metadata": {},
   "source": [
    "## Exercise 3"
   ]
  },
  {
   "cell_type": "code",
   "execution_count": 31,
   "id": "f401bb13-1b64-47d4-a6ef-ec402c3c8172",
   "metadata": {},
   "outputs": [
    {
     "data": {
      "text/plain": [
       "array([4.9518475 , 3.0253809 , 2.02122296, 5.96764434])"
      ]
     },
     "execution_count": 31,
     "metadata": {},
     "output_type": "execute_result"
    }
   ],
   "source": [
    "def estimate_ols(y: np.array, X: np.array) -> np.array:\n",
    "    def sumSqResid(B: np.array, y: np.array, X: np.array) -> float:\n",
    "        newX = np.c_[np.ones(1000), X]\n",
    "        sqResid = (y-B@newX.T)**2\n",
    "        return np.sum(sqResid)\n",
    "    \n",
    "    newResult = sp.optimize.minimize(\n",
    "                fun = sumSqResid,\n",
    "                x0 = [0,0,0,0],\n",
    "                args = (y, X)\n",
    "            )\n",
    "    return newResult.x\n",
    "\n",
    "estimate_ols(a, b)"
   ]
  }
 ],
 "metadata": {
  "kernelspec": {
   "display_name": "Python 3 (ipykernel)",
   "language": "python",
   "name": "python3"
  },
  "language_info": {
   "codemirror_mode": {
    "name": "ipython",
    "version": 3
   },
   "file_extension": ".py",
   "mimetype": "text/x-python",
   "name": "python",
   "nbconvert_exporter": "python",
   "pygments_lexer": "ipython3",
   "version": "3.10.13"
  }
 },
 "nbformat": 4,
 "nbformat_minor": 5
}
