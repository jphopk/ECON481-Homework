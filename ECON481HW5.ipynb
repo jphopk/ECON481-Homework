{
 "cells": [
  {
   "cell_type": "markdown",
   "id": "bd8f8ee4-13f0-45f3-89b5-a3f007410611",
   "metadata": {},
   "source": [
    "## Exercise 0"
   ]
  },
  {
   "cell_type": "code",
   "execution_count": null,
   "id": "d92a311f-d027-4d05-ad63-31780a10f448",
   "metadata": {},
   "outputs": [],
   "source": []
  },
  {
   "cell_type": "markdown",
   "id": "161db49b-3f4a-4e7d-aa98-6ec587ba7f60",
   "metadata": {},
   "source": [
    "## Exercise 1"
   ]
  }
 ],
 "metadata": {
  "kernelspec": {
   "display_name": "Python 3 (ipykernel)",
   "language": "python",
   "name": "python3"
  },
  "language_info": {
   "codemirror_mode": {
    "name": "ipython",
    "version": 3
   },
   "file_extension": ".py",
   "mimetype": "text/x-python",
   "name": "python",
   "nbconvert_exporter": "python",
   "pygments_lexer": "ipython3",
   "version": "3.10.13"
  }
 },
 "nbformat": 4,
 "nbformat_minor": 5
}
