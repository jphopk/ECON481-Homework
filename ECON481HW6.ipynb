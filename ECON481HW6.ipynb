{
 "cells": [
  {
   "cell_type": "markdown",
   "id": "a26b9311-88da-4dcf-af51-0aa8f2ad44ec",
   "metadata": {},
   "source": [
    "## Exercise 0"
   ]
  },
  {
   "cell_type": "code",
   "execution_count": 1,
   "id": "3d23788b-094f-4db5-8f8b-4964478e2b9b",
   "metadata": {},
   "outputs": [],
   "source": [
    "def github() -> str:\n",
    "\n",
    "    return \"https://github.com/jphopk/ECON481-Homework/blob/main/ECON481-HW6-JustinHopkins.py\""
   ]
  },
  {
   "cell_type": "markdown",
   "id": "51ea0e30-a152-48b5-9e18-a76b1baf2b5a",
   "metadata": {},
   "source": [
    "## Exercise 1"
   ]
  },
  {
   "cell_type": "code",
   "execution_count": 5,
   "id": "a8ebb23d-ee85-49e6-8041-a2261418b6c1",
   "metadata": {},
   "outputs": [
    {
     "name": "stdout",
     "output_type": "stream",
     "text": [
      "       itemId       std\n",
      "0   172998011  0.000000\n",
      "1   174445924  0.577350\n",
      "2   174551689  1.830034\n",
      "3   174767945  8.607399\n",
      "4   174871788  3.109126\n",
      "..        ...       ...\n",
      "82  182571641  7.767700\n",
      "83  182660924  4.364634\n",
      "84  182745253  2.884098\n",
      "85  182883873  0.707107\n",
      "86  182925212  1.154701\n",
      "\n",
      "[87 rows x 2 columns]\n"
     ]
    }
   ],
   "source": [
    "import sqlalchemy\n",
    "from sqlalchemy import create_engine\n",
    "from sqlalchemy import inspect\n",
    "import pandas as pd\n",
    "from sqlalchemy.orm import Session\n",
    "import sqlite3\n",
    "\n",
    "path = 'auctions.db'\n",
    "\n",
    "class DataBase:\n",
    "    def __init__(self, loc: str, db_type: str = \"sqlite\") -> None:\n",
    "        \"\"\"Initialize the class and connect to the database\"\"\"\n",
    "        self.loc = loc\n",
    "        self.db_type = db_type\n",
    "        self.engine = create_engine(f'{self.db_type}:///{self.loc}')\n",
    "    def query(self, q: str) -> pd.DataFrame:\n",
    "        \"\"\"Run a query against the database and return a DataFrame\"\"\"\n",
    "        with Session(self.engine) as session:\n",
    "            df = pd.read_sql(q, session.bind)\n",
    "        return(df)\n",
    "\n",
    "auctions = DataBase(path)\n",
    "\n",
    "def std() -> str:\n",
    "    query = \"\"\"\n",
    "    SELECT itemId, \n",
    "           SQRT(SUM((bidAmount - avg_bid)*(bidAmount - avg_bid)) / (COUNT(bidAmount) - 1)) AS std\n",
    "    FROM (\n",
    "        SELECT itemId, bidAmount, AVG(bidAmount) OVER(PARTITION BY itemId) AS avg_bid\n",
    "        FROM bids\n",
    "    )\n",
    "    GROUP BY itemId\n",
    "    HAVING (std is not null)\n",
    "    \"\"\"\n",
    "    return query\n",
    "\n",
    "print(auctions.query(std()))"
   ]
  },
  {
   "cell_type": "markdown",
   "id": "40009bec-9b9e-49df-bcb9-adf04f43b8af",
   "metadata": {},
   "source": [
    "## Exercise 2"
   ]
  },
  {
   "cell_type": "code",
   "execution_count": 10,
   "id": "c9ba7920-88ff-4264-931c-21f2e5ad92a3",
   "metadata": {},
   "outputs": [
    {
     "name": "stdout",
     "output_type": "stream",
     "text": [
      "    bidderName  total_spend  total_bids  spend_frac\n",
      "0       7****1         7.99       16.00    0.499375\n",
      "1       A****4        12.00       45.00    0.266667\n",
      "2       A****C        16.99       16.99    1.000000\n",
      "3       A****a        40.98       40.98    1.000000\n",
      "4       A****e        79.90       55.00    1.452727\n",
      "..         ...          ...         ...         ...\n",
      "147     v****6        30.00       31.00    0.967742\n",
      "148     v****l        22.00       22.00    1.000000\n",
      "149     w****5        46.99       46.99    1.000000\n",
      "150     w****7        19.99       19.99    1.000000\n",
      "151     y****a        34.99       34.99    1.000000\n",
      "\n",
      "[152 rows x 4 columns]\n"
     ]
    }
   ],
   "source": [
    "def bidder_spend_frac() -> str:\n",
    "    query = \"\"\"\n",
    "    WITH Sumbidder AS (\n",
    "        SELECT HighbidderName AS bidderName, SUM(bidAmount) AS total_spend\n",
    "        FROM (\n",
    "            SELECT b1.HighbidderName, b1.bidAmount\n",
    "            FROM bids b1\n",
    "            JOIN (\n",
    "                SELECT itemId, MAX(bidTime) AS latest_timestamp\n",
    "                FROM bids\n",
    "                GROUP BY itemId\n",
    "            ) b2 ON b1.itemId = b2.itemId AND b1.bidTime = b2.latest_timestamp\n",
    "        ) latest_bids\n",
    "        GROUP BY bidderName\n",
    "    ), \n",
    "    TotalBids AS (\n",
    "        SELECT bidderName, MAX(bidAmount) AS total_bids\n",
    "        FROM bids\n",
    "        GROUP BY bidderName\n",
    "    )\n",
    "    SELECT s.bidderName, s.total_spend, t.total_bids, (s.total_spend / t.total_bids) AS spend_frac\n",
    "    FROM Sumbidder s\n",
    "    JOIN TotalBids t ON s.bidderName = t.bidderName;\n",
    "    \"\"\"\n",
    "    return query\n",
    "\n",
    "\n",
    "print(auctions.query(bidder_spend_frac()))"
   ]
  },
  {
   "cell_type": "markdown",
   "id": "8912f558-e72a-4ed1-8286-4c585c15d148",
   "metadata": {},
   "source": [
    "## Exercise 3"
   ]
  },
  {
   "cell_type": "code",
   "execution_count": 11,
   "id": "2ab9820e-9f12-42fb-9c33-be5844a2aea8",
   "metadata": {},
   "outputs": [
    {
     "name": "stdout",
     "output_type": "stream",
     "text": [
      "        freq\n",
      "0   1.000000\n",
      "1   0.166667\n",
      "2   0.076923\n",
      "3   0.333333\n",
      "4   1.000000\n",
      "..       ...\n",
      "78  0.037037\n",
      "79  0.333333\n",
      "80  0.222222\n",
      "81  1.000000\n",
      "82  1.000000\n",
      "\n",
      "[83 rows x 1 columns]\n"
     ]
    }
   ],
   "source": [
    "def min_increment_freq() -> str:\n",
    "    query = \"\"\"\n",
    "    SELECT \n",
    "        SUM(CASE \n",
    "                WHEN b2.bidAmount = b1.bidAmount + i.bidIncrement THEN 1\n",
    "                ELSE 0\n",
    "            END) * 1.0 / COUNT(b2.bidAmount) AS freq\n",
    "    FROM bids b1\n",
    "    JOIN bids b2 ON b1.itemId = b2.itemId AND b1.bidAmount < b2.bidAmount\n",
    "    JOIN items i ON i.itemId = b1.itemId\n",
    "    WHERE i.isBuyNowUsed = 0\n",
    "    GROUP BY b1.itemId;\n",
    "    \"\"\"\n",
    "    return query\n",
    "\n",
    "print(auctions.query(min_increment_freq()))"
   ]
  },
  {
   "cell_type": "markdown",
   "id": "56ad7938-91be-4661-a752-20ff712018b2",
   "metadata": {},
   "source": [
    "## Exercise 4"
   ]
  },
  {
   "cell_type": "code",
   "execution_count": 12,
   "id": "51771cd2-a3c0-4273-89fd-60c888ef37db",
   "metadata": {},
   "outputs": [
    {
     "name": "stdout",
     "output_type": "stream",
     "text": [
      "   timestamp_bin   win_perc\n",
      "0              1  37.552743\n",
      "1              2  10.000000\n",
      "2              3   0.000000\n",
      "3              4  11.764706\n",
      "4              5  15.384615\n",
      "5              6   0.000000\n",
      "6              7   0.000000\n",
      "7              8   0.000000\n",
      "8              9  11.111111\n",
      "9             10  49.732620\n"
     ]
    }
   ],
   "source": [
    "def win_perc_by_timestamp() -> str:\n",
    "    query = \"\"\"\n",
    "    WITH AuctionTimes AS (\n",
    "        SELECT\n",
    "            itemId, MIN(bidTime) AS startTime, MAX(bidTime) AS endTime\n",
    "        FROM bids\n",
    "        GROUP BY itemId\n",
    "    ),\n",
    "    BidsWithNormalizedTime AS (\n",
    "        SELECT\n",
    "            b.itemId, b.bidTime, b.bidAmount, t.startTime, t.endTime,\n",
    "            CASE\n",
    "                WHEN (julianday(t.endTime) - julianday(b.bidTime)) / (julianday(t.endTime) - julianday(t.startTime)) < 0.1 THEN 1\n",
    "                WHEN (julianday(t.endTime) - julianday(b.bidTime)) / (julianday(t.endTime) - julianday(t.startTime)) < 0.2 THEN 2\n",
    "                WHEN (julianday(t.endTime) - julianday(b.bidTime)) / (julianday(t.endTime) - julianday(t.startTime)) < 0.3 THEN 3\n",
    "                WHEN (julianday(t.endTime) - julianday(b.bidTime)) / (julianday(t.endTime) - julianday(t.startTime)) < 0.4 THEN 4\n",
    "                WHEN (julianday(t.endTime) - julianday(b.bidTime)) / (julianday(t.endTime) - julianday(t.startTime)) < 0.5 THEN 5\n",
    "                WHEN (julianday(t.endTime) - julianday(b.bidTime)) / (julianday(t.endTime) - julianday(t.startTime)) < 0.6 THEN 6\n",
    "                WHEN (julianday(t.endTime) - julianday(b.bidTime)) / (julianday(t.endTime) - julianday(t.startTime)) < 0.7 THEN 7\n",
    "                WHEN (julianday(t.endTime) - julianday(b.bidTime)) / (julianday(t.endTime) - julianday(t.startTime)) < 0.8 THEN 8\n",
    "                WHEN (julianday(t.endTime) - julianday(b.bidTime)) / (julianday(t.endTime) - julianday(t.startTime)) < 0.9 THEN 9\n",
    "                ELSE 10\n",
    "            END AS timestamp_bin\n",
    "        FROM bids b\n",
    "        JOIN AuctionTimes t ON b.itemId = t.itemId\n",
    "    ),\n",
    "    WinningBids AS (\n",
    "        SELECT itemId, MAX(bidAmount) AS highestBidAmount\n",
    "        FROM bids\n",
    "        GROUP BY itemId\n",
    "    )\n",
    "    SELECT\n",
    "        n.timestamp_bin,\n",
    "        100.0 * SUM(CASE WHEN n.bidAmount = w.highestBidAmount THEN 1 ELSE 0 END) / COUNT(*) AS win_perc\n",
    "    FROM BidsWithNormalizedTime n\n",
    "    JOIN WinningBids w ON n.itemId = w.itemId\n",
    "    GROUP BY n.timestamp_bin\n",
    "    \"\"\"\n",
    "    return query\n",
    "    \n",
    "print(auctions.query(win_perc_by_timestamp()))"
   ]
  },
  {
   "cell_type": "code",
   "execution_count": null,
   "id": "27c8fc4b-dd83-4840-a59f-d26c5b9b1477",
   "metadata": {},
   "outputs": [],
   "source": []
  }
 ],
 "metadata": {
  "kernelspec": {
   "display_name": "Python 3 (ipykernel)",
   "language": "python",
   "name": "python3"
  },
  "language_info": {
   "codemirror_mode": {
    "name": "ipython",
    "version": 3
   },
   "file_extension": ".py",
   "mimetype": "text/x-python",
   "name": "python",
   "nbconvert_exporter": "python",
   "pygments_lexer": "ipython3",
   "version": "3.10.13"
  }
 },
 "nbformat": 4,
 "nbformat_minor": 5
}
